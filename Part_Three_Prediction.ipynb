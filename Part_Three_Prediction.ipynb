{
 "cells": [
  {
   "cell_type": "markdown",
   "id": "84395f53",
   "metadata": {},
   "source": [
    "# Project \"Know_Your_Rent_Muc\": Part Three\n",
    "# Prediction Of The Rent in Munich"
   ]
  },
  {
   "cell_type": "markdown",
   "id": "1fe3df77",
   "metadata": {},
   "source": [
    "At this part the focus will be to find the best model for my use case. The score is defined as the R2 value and is the correlation between the predicted values and the true values of the test date."
   ]
  },
  {
   "cell_type": "code",
   "execution_count": 103,
   "id": "738102ab",
   "metadata": {},
   "outputs": [],
   "source": [
    "# Loading necessary modules\n",
    "import pandas as pd\n",
    "import numpy as np\n",
    "from sklearn.linear_model import LinearRegression, Ridge, Lasso\n",
    "from sklearn.preprocessing import MinMaxScaler, StandardScaler\n",
    "from sklearn.model_selection import train_test_split, cross_val_score,KFold, GridSearchCV\n",
    "from sklearn.metrics import classification_report, r2_score, mean_squared_error\n",
    "import scipy.stats as stats\n",
    "from sklearn.ensemble import GradientBoostingRegressor\n",
    "from sklearn.ensemble import AdaBoostRegressor\n",
    "import matplotlib.pyplot as plt\n",
    "from sklearn.model_selection import learning_curve, ShuffleSplit\n",
    "from sklearn.metrics import mean_squared_error, mean_absolute_error, r2_score\n",
    "from sklearn.tree import DecisionTreeRegressor\n",
    "from sklearn.ensemble import RandomForestRegressor, GradientBoostingRegressor"
   ]
  },
  {
   "cell_type": "markdown",
   "id": "5e917694",
   "metadata": {},
   "source": [
    "## 1. Data Loading and Selecting"
   ]
  },
  {
   "cell_type": "markdown",
   "id": "d86e3425",
   "metadata": {},
   "source": [
    "First of all, I load the wrangled data."
   ]
  },
  {
   "cell_type": "code",
   "execution_count": 104,
   "id": "38896e04",
   "metadata": {},
   "outputs": [],
   "source": [
    "df = pd.read_csv(\"wrangled_data.csv\") # Load the data in a dataframe"
   ]
  },
  {
   "cell_type": "code",
   "execution_count": 105,
   "id": "858fab75",
   "metadata": {
    "scrolled": false
   },
   "outputs": [
    {
     "data": {
      "text/html": [
       "<div>\n",
       "<style scoped>\n",
       "    .dataframe tbody tr th:only-of-type {\n",
       "        vertical-align: middle;\n",
       "    }\n",
       "\n",
       "    .dataframe tbody tr th {\n",
       "        vertical-align: top;\n",
       "    }\n",
       "\n",
       "    .dataframe thead th {\n",
       "        text-align: right;\n",
       "    }\n",
       "</style>\n",
       "<table border=\"1\" class=\"dataframe\">\n",
       "  <thead>\n",
       "    <tr style=\"text-align: right;\">\n",
       "      <th></th>\n",
       "      <th>object_area</th>\n",
       "      <th>object_price</th>\n",
       "      <th>object_rooms</th>\n",
       "      <th>Balkon</th>\n",
       "      <th>EBK</th>\n",
       "      <th>Garten</th>\n",
       "      <th>object_district_Allach-Untermenzing</th>\n",
       "      <th>object_district_Altstadt-Lehel</th>\n",
       "      <th>object_district_Au-Haidhausen</th>\n",
       "      <th>object_district_Aubing-Lochhausen-Langwied</th>\n",
       "      <th>...</th>\n",
       "      <th>object_district_Untergiesing-Harlaching</th>\n",
       "      <th>object_objektart_sub_APARTMENT</th>\n",
       "      <th>object_objektart_sub_DACHGESCHOSS</th>\n",
       "      <th>object_objektart_sub_ERDGESCHOSS</th>\n",
       "      <th>object_objektart_sub_ETAGE</th>\n",
       "      <th>object_objektart_sub_LOFT-STUDIO-ATELIER</th>\n",
       "      <th>object_objektart_sub_MAISONETTE</th>\n",
       "      <th>object_objektart_sub_PENTHOUSE</th>\n",
       "      <th>object_objektart_sub_SOUTERRAIN</th>\n",
       "      <th>object_objektart_sub_Wohnung</th>\n",
       "    </tr>\n",
       "  </thead>\n",
       "  <tbody>\n",
       "    <tr>\n",
       "      <th>0</th>\n",
       "      <td>3.610918</td>\n",
       "      <td>1120</td>\n",
       "      <td>0.000000</td>\n",
       "      <td>1</td>\n",
       "      <td>1</td>\n",
       "      <td>0</td>\n",
       "      <td>0</td>\n",
       "      <td>0</td>\n",
       "      <td>0</td>\n",
       "      <td>0</td>\n",
       "      <td>...</td>\n",
       "      <td>0</td>\n",
       "      <td>1</td>\n",
       "      <td>0</td>\n",
       "      <td>0</td>\n",
       "      <td>0</td>\n",
       "      <td>0</td>\n",
       "      <td>0</td>\n",
       "      <td>0</td>\n",
       "      <td>0</td>\n",
       "      <td>0</td>\n",
       "    </tr>\n",
       "    <tr>\n",
       "      <th>1</th>\n",
       "      <td>3.971423</td>\n",
       "      <td>1339</td>\n",
       "      <td>0.693147</td>\n",
       "      <td>1</td>\n",
       "      <td>0</td>\n",
       "      <td>0</td>\n",
       "      <td>0</td>\n",
       "      <td>0</td>\n",
       "      <td>0</td>\n",
       "      <td>0</td>\n",
       "      <td>...</td>\n",
       "      <td>0</td>\n",
       "      <td>0</td>\n",
       "      <td>0</td>\n",
       "      <td>0</td>\n",
       "      <td>1</td>\n",
       "      <td>0</td>\n",
       "      <td>0</td>\n",
       "      <td>0</td>\n",
       "      <td>0</td>\n",
       "      <td>0</td>\n",
       "    </tr>\n",
       "    <tr>\n",
       "      <th>2</th>\n",
       "      <td>4.161380</td>\n",
       "      <td>1509</td>\n",
       "      <td>0.693147</td>\n",
       "      <td>0</td>\n",
       "      <td>0</td>\n",
       "      <td>0</td>\n",
       "      <td>0</td>\n",
       "      <td>0</td>\n",
       "      <td>0</td>\n",
       "      <td>0</td>\n",
       "      <td>...</td>\n",
       "      <td>0</td>\n",
       "      <td>0</td>\n",
       "      <td>0</td>\n",
       "      <td>0</td>\n",
       "      <td>1</td>\n",
       "      <td>0</td>\n",
       "      <td>0</td>\n",
       "      <td>0</td>\n",
       "      <td>0</td>\n",
       "      <td>0</td>\n",
       "    </tr>\n",
       "    <tr>\n",
       "      <th>3</th>\n",
       "      <td>3.901164</td>\n",
       "      <td>1600</td>\n",
       "      <td>0.693147</td>\n",
       "      <td>0</td>\n",
       "      <td>0</td>\n",
       "      <td>0</td>\n",
       "      <td>0</td>\n",
       "      <td>0</td>\n",
       "      <td>0</td>\n",
       "      <td>0</td>\n",
       "      <td>...</td>\n",
       "      <td>0</td>\n",
       "      <td>0</td>\n",
       "      <td>0</td>\n",
       "      <td>1</td>\n",
       "      <td>0</td>\n",
       "      <td>0</td>\n",
       "      <td>0</td>\n",
       "      <td>0</td>\n",
       "      <td>0</td>\n",
       "      <td>0</td>\n",
       "    </tr>\n",
       "    <tr>\n",
       "      <th>4</th>\n",
       "      <td>4.566741</td>\n",
       "      <td>2085</td>\n",
       "      <td>1.386294</td>\n",
       "      <td>1</td>\n",
       "      <td>0</td>\n",
       "      <td>0</td>\n",
       "      <td>0</td>\n",
       "      <td>0</td>\n",
       "      <td>0</td>\n",
       "      <td>0</td>\n",
       "      <td>...</td>\n",
       "      <td>0</td>\n",
       "      <td>0</td>\n",
       "      <td>0</td>\n",
       "      <td>0</td>\n",
       "      <td>1</td>\n",
       "      <td>0</td>\n",
       "      <td>0</td>\n",
       "      <td>0</td>\n",
       "      <td>0</td>\n",
       "      <td>0</td>\n",
       "    </tr>\n",
       "  </tbody>\n",
       "</table>\n",
       "<p>5 rows × 40 columns</p>\n",
       "</div>"
      ],
      "text/plain": [
       "   object_area  object_price  object_rooms  Balkon  EBK  Garten  \\\n",
       "0     3.610918          1120      0.000000       1    1       0   \n",
       "1     3.971423          1339      0.693147       1    0       0   \n",
       "2     4.161380          1509      0.693147       0    0       0   \n",
       "3     3.901164          1600      0.693147       0    0       0   \n",
       "4     4.566741          2085      1.386294       1    0       0   \n",
       "\n",
       "   object_district_Allach-Untermenzing  object_district_Altstadt-Lehel  \\\n",
       "0                                    0                               0   \n",
       "1                                    0                               0   \n",
       "2                                    0                               0   \n",
       "3                                    0                               0   \n",
       "4                                    0                               0   \n",
       "\n",
       "   object_district_Au-Haidhausen  object_district_Aubing-Lochhausen-Langwied  \\\n",
       "0                              0                                           0   \n",
       "1                              0                                           0   \n",
       "2                              0                                           0   \n",
       "3                              0                                           0   \n",
       "4                              0                                           0   \n",
       "\n",
       "   ...  object_district_Untergiesing-Harlaching  \\\n",
       "0  ...                                        0   \n",
       "1  ...                                        0   \n",
       "2  ...                                        0   \n",
       "3  ...                                        0   \n",
       "4  ...                                        0   \n",
       "\n",
       "   object_objektart_sub_APARTMENT  object_objektart_sub_DACHGESCHOSS  \\\n",
       "0                               1                                  0   \n",
       "1                               0                                  0   \n",
       "2                               0                                  0   \n",
       "3                               0                                  0   \n",
       "4                               0                                  0   \n",
       "\n",
       "   object_objektart_sub_ERDGESCHOSS  object_objektart_sub_ETAGE  \\\n",
       "0                                 0                           0   \n",
       "1                                 0                           1   \n",
       "2                                 0                           1   \n",
       "3                                 1                           0   \n",
       "4                                 0                           1   \n",
       "\n",
       "   object_objektart_sub_LOFT-STUDIO-ATELIER  object_objektart_sub_MAISONETTE  \\\n",
       "0                                         0                                0   \n",
       "1                                         0                                0   \n",
       "2                                         0                                0   \n",
       "3                                         0                                0   \n",
       "4                                         0                                0   \n",
       "\n",
       "   object_objektart_sub_PENTHOUSE  object_objektart_sub_SOUTERRAIN  \\\n",
       "0                               0                                0   \n",
       "1                               0                                0   \n",
       "2                               0                                0   \n",
       "3                               0                                0   \n",
       "4                               0                                0   \n",
       "\n",
       "   object_objektart_sub_Wohnung  \n",
       "0                             0  \n",
       "1                             0  \n",
       "2                             0  \n",
       "3                             0  \n",
       "4                             0  \n",
       "\n",
       "[5 rows x 40 columns]"
      ]
     },
     "execution_count": 105,
     "metadata": {},
     "output_type": "execute_result"
    }
   ],
   "source": [
    "df.head() # Show the first 5 rows of the dataset"
   ]
  },
  {
   "cell_type": "markdown",
   "id": "c4b9782c",
   "metadata": {},
   "source": [
    "In this step the data get splitted in the x-data and the y-data for the model."
   ]
  },
  {
   "cell_type": "code",
   "execution_count": 106,
   "id": "3fc503d9",
   "metadata": {},
   "outputs": [],
   "source": [
    "y = df['object_price'] # select the target column\n",
    "X = df.drop(['object_price'],axis= 1) # select the features"
   ]
  },
  {
   "cell_type": "markdown",
   "id": "213397ce",
   "metadata": {},
   "source": [
    "## 2. Modeling"
   ]
  },
  {
   "cell_type": "markdown",
   "id": "93bae31a",
   "metadata": {},
   "source": [
    "The goal is to predict the rent.  That's why it's a regression problem."
   ]
  },
  {
   "cell_type": "markdown",
   "id": "4f683846",
   "metadata": {},
   "source": [
    "## 2.1. Linear Regression"
   ]
  },
  {
   "cell_type": "markdown",
   "id": "a5b8b8e7",
   "metadata": {},
   "source": [
    "Now I definie the Machine Learning Models. I start with the most simplest one: The linear regression. "
   ]
  },
  {
   "cell_type": "code",
   "execution_count": 107,
   "id": "dfbd47ad",
   "metadata": {},
   "outputs": [],
   "source": [
    "lr = LinearRegression() # load the machine learning model"
   ]
  },
  {
   "cell_type": "code",
   "execution_count": 124,
   "id": "bbf22c2b",
   "metadata": {},
   "outputs": [],
   "source": [
    "cv = ShuffleSplit(n_splits=5, test_size=0.25, random_state=30) # Shuffeling the data for the cross validation"
   ]
  },
  {
   "cell_type": "markdown",
   "id": "41e4b115",
   "metadata": {},
   "source": [
    "In the next part I set the cross validation program. This is more accurate to test the model performence then a classic train/test split. "
   ]
  },
  {
   "cell_type": "code",
   "execution_count": 125,
   "id": "31de14fe",
   "metadata": {},
   "outputs": [
    {
     "name": "stdout",
     "output_type": "stream",
     "text": [
      "[0.58509565 0.70078208 0.62534314 0.6230129  0.58571552]\n",
      "---------\n",
      "0.6239898583910228\n"
     ]
    }
   ],
   "source": [
    "# perform cross validation and print the results and the mean of the results\n",
    "scores_lr = cross_val_score(lr, X, y, cv=cv, scoring='r2')\n",
    "print(scores_lr)\n",
    "print('---------')\n",
    "print(np.mean(scores_lr))"
   ]
  },
  {
   "cell_type": "markdown",
   "id": "818188ac",
   "metadata": {},
   "source": [
    "The value is ok, but there are other models which can have a better performence. The next models are:\n",
    "- Ridge\n",
    "- Lasso\n",
    "- Regression Randowm Forest\n",
    "- Regressio Gradient Boosting"
   ]
  },
  {
   "cell_type": "markdown",
   "id": "ea3af45f",
   "metadata": {},
   "source": [
    "## 2.2. Ridge Regression"
   ]
  },
  {
   "cell_type": "code",
   "execution_count": 127,
   "id": "3a04ea07",
   "metadata": {},
   "outputs": [],
   "source": [
    "ridge = Ridge()  # load the machine learning model"
   ]
  },
  {
   "cell_type": "code",
   "execution_count": 128,
   "id": "929b3d21",
   "metadata": {},
   "outputs": [
    {
     "name": "stderr",
     "output_type": "stream",
     "text": [
      "/Library/Frameworks/Python.framework/Versions/3.10/lib/python3.10/site-packages/sklearn/linear_model/_ridge.py:216: LinAlgWarning: Ill-conditioned matrix (rcond=8.19449e-18): result may not be accurate.\n",
      "  return linalg.solve(A, Xy, assume_a=\"pos\", overwrite_a=True).T\n"
     ]
    },
    {
     "name": "stdout",
     "output_type": "stream",
     "text": [
      "Best parameter:  {'alpha': 3}\n"
     ]
    }
   ],
   "source": [
    "# define the range of parameter values\n",
    "param_grid = {\n",
    "    'alpha': list(range(30))\n",
    "}\n",
    "\n",
    "# search for the best parameter\n",
    "grid = GridSearchCV(ridge, param_grid, cv=cv)\n",
    "grid.fit(X, y)\n",
    "\n",
    "# print the best parameter\n",
    "print(\"Best parameter: \", grid.best_params_)"
   ]
  },
  {
   "cell_type": "code",
   "execution_count": 131,
   "id": "642d8099",
   "metadata": {},
   "outputs": [],
   "source": [
    "ridge = Ridge(alpha=3)  # load the machine learning model with the optimal parameter"
   ]
  },
  {
   "cell_type": "code",
   "execution_count": 133,
   "id": "b305df57",
   "metadata": {},
   "outputs": [
    {
     "name": "stdout",
     "output_type": "stream",
     "text": [
      "[0.5794855  0.72267528 0.63254944 0.64214445 0.58907343]\n",
      "-----------\n",
      "0.633185621671551\n"
     ]
    }
   ],
   "source": [
    "# perform cross validation and print the results and the mean of the results\n",
    "scores_ridge = cross_val_score(ridge, X, y, cv=cv, scoring='r2')\n",
    "print(scores_ridge)\n",
    "print('-----------')\n",
    "print(np.mean(scores_ridge))"
   ]
  },
  {
   "cell_type": "markdown",
   "id": "4a2244dd",
   "metadata": {},
   "source": [
    "The result is a little bit better."
   ]
  },
  {
   "cell_type": "markdown",
   "id": "c2884ca3",
   "metadata": {},
   "source": [
    "## 2.3. Lasso Regression"
   ]
  },
  {
   "cell_type": "code",
   "execution_count": 18,
   "id": "6eeb6d1a",
   "metadata": {},
   "outputs": [],
   "source": [
    "lasso = Lasso() # load the machine learning model"
   ]
  },
  {
   "cell_type": "code",
   "execution_count": 138,
   "id": "01c5f8f3",
   "metadata": {
    "scrolled": true
   },
   "outputs": [
    {
     "name": "stderr",
     "output_type": "stream",
     "text": [
      "/Library/Frameworks/Python.framework/Versions/3.10/lib/python3.10/site-packages/sklearn/model_selection/_validation.py:686: UserWarning: With alpha=0, this algorithm does not converge well. You are advised to use the LinearRegression estimator\n",
      "  estimator.fit(X_train, y_train, **fit_params)\n",
      "/Library/Frameworks/Python.framework/Versions/3.10/lib/python3.10/site-packages/sklearn/linear_model/_coordinate_descent.py:631: UserWarning: Coordinate descent with no regularization may lead to unexpected results and is discouraged.\n",
      "  model = cd_fast.enet_coordinate_descent(\n",
      "/Library/Frameworks/Python.framework/Versions/3.10/lib/python3.10/site-packages/sklearn/linear_model/_coordinate_descent.py:631: ConvergenceWarning: Objective did not converge. You might want to increase the number of iterations, check the scale of the features or consider increasing regularisation. Duality gap: 8.001e+07, tolerance: 5.767e+04 Linear regression models with null weight for the l1 regularization term are more efficiently fitted using one of the solvers implemented in sklearn.linear_model.Ridge/RidgeCV instead.\n",
      "  model = cd_fast.enet_coordinate_descent(\n",
      "/Library/Frameworks/Python.framework/Versions/3.10/lib/python3.10/site-packages/sklearn/model_selection/_validation.py:686: UserWarning: With alpha=0, this algorithm does not converge well. You are advised to use the LinearRegression estimator\n",
      "  estimator.fit(X_train, y_train, **fit_params)\n",
      "/Library/Frameworks/Python.framework/Versions/3.10/lib/python3.10/site-packages/sklearn/linear_model/_coordinate_descent.py:631: UserWarning: Coordinate descent with no regularization may lead to unexpected results and is discouraged.\n",
      "  model = cd_fast.enet_coordinate_descent(\n",
      "/Library/Frameworks/Python.framework/Versions/3.10/lib/python3.10/site-packages/sklearn/linear_model/_coordinate_descent.py:631: ConvergenceWarning: Objective did not converge. You might want to increase the number of iterations, check the scale of the features or consider increasing regularisation. Duality gap: 1.050e+08, tolerance: 6.616e+04 Linear regression models with null weight for the l1 regularization term are more efficiently fitted using one of the solvers implemented in sklearn.linear_model.Ridge/RidgeCV instead.\n",
      "  model = cd_fast.enet_coordinate_descent(\n",
      "/Library/Frameworks/Python.framework/Versions/3.10/lib/python3.10/site-packages/sklearn/model_selection/_validation.py:686: UserWarning: With alpha=0, this algorithm does not converge well. You are advised to use the LinearRegression estimator\n",
      "  estimator.fit(X_train, y_train, **fit_params)\n",
      "/Library/Frameworks/Python.framework/Versions/3.10/lib/python3.10/site-packages/sklearn/linear_model/_coordinate_descent.py:631: UserWarning: Coordinate descent with no regularization may lead to unexpected results and is discouraged.\n",
      "  model = cd_fast.enet_coordinate_descent(\n",
      "/Library/Frameworks/Python.framework/Versions/3.10/lib/python3.10/site-packages/sklearn/linear_model/_coordinate_descent.py:631: ConvergenceWarning: Objective did not converge. You might want to increase the number of iterations, check the scale of the features or consider increasing regularisation. Duality gap: 9.872e+07, tolerance: 6.519e+04 Linear regression models with null weight for the l1 regularization term are more efficiently fitted using one of the solvers implemented in sklearn.linear_model.Ridge/RidgeCV instead.\n",
      "  model = cd_fast.enet_coordinate_descent(\n",
      "/Library/Frameworks/Python.framework/Versions/3.10/lib/python3.10/site-packages/sklearn/model_selection/_validation.py:686: UserWarning: With alpha=0, this algorithm does not converge well. You are advised to use the LinearRegression estimator\n",
      "  estimator.fit(X_train, y_train, **fit_params)\n",
      "/Library/Frameworks/Python.framework/Versions/3.10/lib/python3.10/site-packages/sklearn/linear_model/_coordinate_descent.py:631: UserWarning: Coordinate descent with no regularization may lead to unexpected results and is discouraged.\n",
      "  model = cd_fast.enet_coordinate_descent(\n",
      "/Library/Frameworks/Python.framework/Versions/3.10/lib/python3.10/site-packages/sklearn/linear_model/_coordinate_descent.py:631: ConvergenceWarning: Objective did not converge. You might want to increase the number of iterations, check the scale of the features or consider increasing regularisation. Duality gap: 8.345e+07, tolerance: 5.714e+04 Linear regression models with null weight for the l1 regularization term are more efficiently fitted using one of the solvers implemented in sklearn.linear_model.Ridge/RidgeCV instead.\n",
      "  model = cd_fast.enet_coordinate_descent(\n",
      "/Library/Frameworks/Python.framework/Versions/3.10/lib/python3.10/site-packages/sklearn/model_selection/_validation.py:686: UserWarning: With alpha=0, this algorithm does not converge well. You are advised to use the LinearRegression estimator\n",
      "  estimator.fit(X_train, y_train, **fit_params)\n",
      "/Library/Frameworks/Python.framework/Versions/3.10/lib/python3.10/site-packages/sklearn/linear_model/_coordinate_descent.py:631: UserWarning: Coordinate descent with no regularization may lead to unexpected results and is discouraged.\n",
      "  model = cd_fast.enet_coordinate_descent(\n",
      "/Library/Frameworks/Python.framework/Versions/3.10/lib/python3.10/site-packages/sklearn/linear_model/_coordinate_descent.py:631: ConvergenceWarning: Objective did not converge. You might want to increase the number of iterations, check the scale of the features or consider increasing regularisation. Duality gap: 8.575e+07, tolerance: 6.047e+04 Linear regression models with null weight for the l1 regularization term are more efficiently fitted using one of the solvers implemented in sklearn.linear_model.Ridge/RidgeCV instead.\n",
      "  model = cd_fast.enet_coordinate_descent(\n"
     ]
    },
    {
     "data": {
      "text/html": [
       "<style>#sk-container-id-1 {color: black;background-color: white;}#sk-container-id-1 pre{padding: 0;}#sk-container-id-1 div.sk-toggleable {background-color: white;}#sk-container-id-1 label.sk-toggleable__label {cursor: pointer;display: block;width: 100%;margin-bottom: 0;padding: 0.3em;box-sizing: border-box;text-align: center;}#sk-container-id-1 label.sk-toggleable__label-arrow:before {content: \"▸\";float: left;margin-right: 0.25em;color: #696969;}#sk-container-id-1 label.sk-toggleable__label-arrow:hover:before {color: black;}#sk-container-id-1 div.sk-estimator:hover label.sk-toggleable__label-arrow:before {color: black;}#sk-container-id-1 div.sk-toggleable__content {max-height: 0;max-width: 0;overflow: hidden;text-align: left;background-color: #f0f8ff;}#sk-container-id-1 div.sk-toggleable__content pre {margin: 0.2em;color: black;border-radius: 0.25em;background-color: #f0f8ff;}#sk-container-id-1 input.sk-toggleable__control:checked~div.sk-toggleable__content {max-height: 200px;max-width: 100%;overflow: auto;}#sk-container-id-1 input.sk-toggleable__control:checked~label.sk-toggleable__label-arrow:before {content: \"▾\";}#sk-container-id-1 div.sk-estimator input.sk-toggleable__control:checked~label.sk-toggleable__label {background-color: #d4ebff;}#sk-container-id-1 div.sk-label input.sk-toggleable__control:checked~label.sk-toggleable__label {background-color: #d4ebff;}#sk-container-id-1 input.sk-hidden--visually {border: 0;clip: rect(1px 1px 1px 1px);clip: rect(1px, 1px, 1px, 1px);height: 1px;margin: -1px;overflow: hidden;padding: 0;position: absolute;width: 1px;}#sk-container-id-1 div.sk-estimator {font-family: monospace;background-color: #f0f8ff;border: 1px dotted black;border-radius: 0.25em;box-sizing: border-box;margin-bottom: 0.5em;}#sk-container-id-1 div.sk-estimator:hover {background-color: #d4ebff;}#sk-container-id-1 div.sk-parallel-item::after {content: \"\";width: 100%;border-bottom: 1px solid gray;flex-grow: 1;}#sk-container-id-1 div.sk-label:hover label.sk-toggleable__label {background-color: #d4ebff;}#sk-container-id-1 div.sk-serial::before {content: \"\";position: absolute;border-left: 1px solid gray;box-sizing: border-box;top: 0;bottom: 0;left: 50%;z-index: 0;}#sk-container-id-1 div.sk-serial {display: flex;flex-direction: column;align-items: center;background-color: white;padding-right: 0.2em;padding-left: 0.2em;position: relative;}#sk-container-id-1 div.sk-item {position: relative;z-index: 1;}#sk-container-id-1 div.sk-parallel {display: flex;align-items: stretch;justify-content: center;background-color: white;position: relative;}#sk-container-id-1 div.sk-item::before, #sk-container-id-1 div.sk-parallel-item::before {content: \"\";position: absolute;border-left: 1px solid gray;box-sizing: border-box;top: 0;bottom: 0;left: 50%;z-index: -1;}#sk-container-id-1 div.sk-parallel-item {display: flex;flex-direction: column;z-index: 1;position: relative;background-color: white;}#sk-container-id-1 div.sk-parallel-item:first-child::after {align-self: flex-end;width: 50%;}#sk-container-id-1 div.sk-parallel-item:last-child::after {align-self: flex-start;width: 50%;}#sk-container-id-1 div.sk-parallel-item:only-child::after {width: 0;}#sk-container-id-1 div.sk-dashed-wrapped {border: 1px dashed gray;margin: 0 0.4em 0.5em 0.4em;box-sizing: border-box;padding-bottom: 0.4em;background-color: white;}#sk-container-id-1 div.sk-label label {font-family: monospace;font-weight: bold;display: inline-block;line-height: 1.2em;}#sk-container-id-1 div.sk-label-container {text-align: center;}#sk-container-id-1 div.sk-container {/* jupyter's `normalize.less` sets `[hidden] { display: none; }` but bootstrap.min.css set `[hidden] { display: none !important; }` so we also need the `!important` here to be able to override the default hidden behavior on the sphinx rendered scikit-learn.org. See: https://github.com/scikit-learn/scikit-learn/issues/21755 */display: inline-block !important;position: relative;}#sk-container-id-1 div.sk-text-repr-fallback {display: none;}</style><div id=\"sk-container-id-1\" class=\"sk-top-container\"><div class=\"sk-text-repr-fallback\"><pre>GridSearchCV(cv=ShuffleSplit(n_splits=5, random_state=30, test_size=0.25, train_size=None),\n",
       "             estimator=Lasso(alpha=3),\n",
       "             param_grid={&#x27;alpha&#x27;: [0, 1, 2, 3, 4, 5, 6, 7, 8, 9, 10, 11, 12, 13,\n",
       "                                   14, 15, 16, 17, 18, 19, 20, 21, 22, 23, 24,\n",
       "                                   25, 26, 27, 28, 29]})</pre><b>In a Jupyter environment, please rerun this cell to show the HTML representation or trust the notebook. <br />On GitHub, the HTML representation is unable to render, please try loading this page with nbviewer.org.</b></div><div class=\"sk-container\" hidden><div class=\"sk-item sk-dashed-wrapped\"><div class=\"sk-label-container\"><div class=\"sk-label sk-toggleable\"><input class=\"sk-toggleable__control sk-hidden--visually\" id=\"sk-estimator-id-1\" type=\"checkbox\" ><label for=\"sk-estimator-id-1\" class=\"sk-toggleable__label sk-toggleable__label-arrow\">GridSearchCV</label><div class=\"sk-toggleable__content\"><pre>GridSearchCV(cv=ShuffleSplit(n_splits=5, random_state=30, test_size=0.25, train_size=None),\n",
       "             estimator=Lasso(alpha=3),\n",
       "             param_grid={&#x27;alpha&#x27;: [0, 1, 2, 3, 4, 5, 6, 7, 8, 9, 10, 11, 12, 13,\n",
       "                                   14, 15, 16, 17, 18, 19, 20, 21, 22, 23, 24,\n",
       "                                   25, 26, 27, 28, 29]})</pre></div></div></div><div class=\"sk-parallel\"><div class=\"sk-parallel-item\"><div class=\"sk-item\"><div class=\"sk-label-container\"><div class=\"sk-label sk-toggleable\"><input class=\"sk-toggleable__control sk-hidden--visually\" id=\"sk-estimator-id-2\" type=\"checkbox\" ><label for=\"sk-estimator-id-2\" class=\"sk-toggleable__label sk-toggleable__label-arrow\">estimator: Lasso</label><div class=\"sk-toggleable__content\"><pre>Lasso(alpha=3)</pre></div></div></div><div class=\"sk-serial\"><div class=\"sk-item\"><div class=\"sk-estimator sk-toggleable\"><input class=\"sk-toggleable__control sk-hidden--visually\" id=\"sk-estimator-id-3\" type=\"checkbox\" ><label for=\"sk-estimator-id-3\" class=\"sk-toggleable__label sk-toggleable__label-arrow\">Lasso</label><div class=\"sk-toggleable__content\"><pre>Lasso(alpha=3)</pre></div></div></div></div></div></div></div></div></div></div>"
      ],
      "text/plain": [
       "GridSearchCV(cv=ShuffleSplit(n_splits=5, random_state=30, test_size=0.25, train_size=None),\n",
       "             estimator=Lasso(alpha=3),\n",
       "             param_grid={'alpha': [0, 1, 2, 3, 4, 5, 6, 7, 8, 9, 10, 11, 12, 13,\n",
       "                                   14, 15, 16, 17, 18, 19, 20, 21, 22, 23, 24,\n",
       "                                   25, 26, 27, 28, 29]})"
      ]
     },
     "execution_count": 138,
     "metadata": {},
     "output_type": "execute_result"
    }
   ],
   "source": [
    "# define the range of parameter values\n",
    "param_grid = {\n",
    "    'alpha': list(range(30))\n",
    "}\n",
    "\n",
    "# search for the best parameter\n",
    "grid = GridSearchCV(lasso, param_grid, cv=cv)\n",
    "grid.fit(X, y)"
   ]
  },
  {
   "cell_type": "code",
   "execution_count": 137,
   "id": "f9a2006b",
   "metadata": {},
   "outputs": [
    {
     "name": "stdout",
     "output_type": "stream",
     "text": [
      "Best parameter:  {'alpha': 3}\n"
     ]
    }
   ],
   "source": [
    "print(\"Best parameter: \", grid.best_params_) # print the best parameter"
   ]
  },
  {
   "cell_type": "code",
   "execution_count": 135,
   "id": "6e2fe387",
   "metadata": {},
   "outputs": [],
   "source": [
    "lasso = Lasso(alpha=3) # load the machine learning model"
   ]
  },
  {
   "cell_type": "code",
   "execution_count": 136,
   "id": "148d8a1d",
   "metadata": {},
   "outputs": [
    {
     "name": "stdout",
     "output_type": "stream",
     "text": [
      "[0.58248603 0.7215055  0.63059388 0.64426251 0.59858636]\n",
      "-----------\n",
      "0.6354868560198093\n"
     ]
    }
   ],
   "source": [
    "# perform cross validation and print the results and the mean of the results\n",
    "scores_lasso = cross_val_score(lasso, X, y, cv=cv, scoring='r2')\n",
    "print(scores_lasso)\n",
    "print('-----------')\n",
    "print(np.mean(scores_lasso))"
   ]
  },
  {
   "cell_type": "markdown",
   "id": "1634cf1b",
   "metadata": {},
   "source": [
    "The improvement is small and not significant. "
   ]
  },
  {
   "cell_type": "markdown",
   "id": "5683225b",
   "metadata": {},
   "source": [
    "## 2.4. Random Forest"
   ]
  },
  {
   "cell_type": "code",
   "execution_count": 22,
   "id": "08575ab7",
   "metadata": {},
   "outputs": [],
   "source": [
    "rf_regr = RandomForestRegressor() # load the machine learning model"
   ]
  },
  {
   "cell_type": "code",
   "execution_count": 140,
   "id": "39848ba2",
   "metadata": {},
   "outputs": [
    {
     "name": "stdout",
     "output_type": "stream",
     "text": [
      "Best parameter:  {'max_depth': 40, 'n_estimators': 50}\n"
     ]
    }
   ],
   "source": [
    "# define the range of parameter values\n",
    "param_grid = {\n",
    "    'n_estimators': [10, 50, 100, 200, 300, 400, 500],\n",
    "    'max_depth': [1, 5, 10, 15, 20, 30, 40, 50],\n",
    "}\n",
    "\n",
    "# search for the best parameter\n",
    "grid = GridSearchCV(rf_regr , param_grid, cv=cv)\n",
    "grid.fit(X, y)\n",
    "\n",
    "# print the best parameter\n",
    "print(\"Best parameter: \", grid.best_params_)"
   ]
  },
  {
   "cell_type": "code",
   "execution_count": 141,
   "id": "0f21aabe",
   "metadata": {},
   "outputs": [],
   "source": [
    "# load the machine learning model with the optimal parameter\n",
    "rf_regr = RandomForestRegressor(n_estimators=50, max_depth=40) "
   ]
  },
  {
   "cell_type": "code",
   "execution_count": 142,
   "id": "7cf362ee",
   "metadata": {},
   "outputs": [
    {
     "name": "stdout",
     "output_type": "stream",
     "text": [
      "[0.76543326 0.79759586 0.78449662 0.78688858 0.78248831]\n",
      "-----------\n",
      "0.7833805268852169\n"
     ]
    }
   ],
   "source": [
    "# perform cross validation and print the results and the mean of the results\n",
    "scores_rf = cross_val_score(rf_regr, X_1, y, cv=cv, scoring='r2')\n",
    "print(scores_rf)\n",
    "print('-----------')\n",
    "print(np.mean(scores_rf))"
   ]
  },
  {
   "cell_type": "markdown",
   "id": "d807a112",
   "metadata": {},
   "source": [
    "## 2.5 Gradient Boosting"
   ]
  },
  {
   "cell_type": "code",
   "execution_count": 80,
   "id": "2fc8a424",
   "metadata": {},
   "outputs": [],
   "source": [
    "gb_regr = GradientBoostingRegressor() # load the machine learning model"
   ]
  },
  {
   "cell_type": "code",
   "execution_count": 143,
   "id": "4e8b4327",
   "metadata": {},
   "outputs": [
    {
     "name": "stdout",
     "output_type": "stream",
     "text": [
      "Best parameter:  {'learning_rate': 0.1, 'max_depth': 3, 'n_estimators': 50}\n"
     ]
    }
   ],
   "source": [
    "# define the range of parameter values\n",
    "param_grid = {\n",
    "    'n_estimators': [50, 100, 200,300,400],\n",
    "    'max_depth': [1, 3, 5],\n",
    "    'learning_rate': [0.5, 0.1, 0.05, 0.01, 0.001],\n",
    "}\n",
    "\n",
    "# search for the best parameter\n",
    "grid = GridSearchCV(gb_regr , param_grid, cv=cv)\n",
    "grid.fit(X, y)\n",
    "\n",
    "# print the best parameter\n",
    "print(\"Best parameter: \", grid.best_params_)"
   ]
  },
  {
   "cell_type": "code",
   "execution_count": 147,
   "id": "79fb8324",
   "metadata": {},
   "outputs": [],
   "source": [
    "# load the machine learning model with the optimal parameter\n",
    "gb_regr = GradientBoostingRegressor(learning_rate=0.1, max_depth=3, n_estimators=50)"
   ]
  },
  {
   "cell_type": "code",
   "execution_count": 148,
   "id": "6f88c12e",
   "metadata": {},
   "outputs": [
    {
     "name": "stdout",
     "output_type": "stream",
     "text": [
      "[0.77104768 0.80455444 0.8120158  0.7438007  0.80243561]\n",
      "-----------\n",
      "0.7867708450813771\n"
     ]
    }
   ],
   "source": [
    "# perform cross validation and print the results and the mean of the results\n",
    "scores_r2 = cross_val_score(gb_regr, X, y, cv=cv, scoring='r2')\n",
    "print(scores_r2)\n",
    "print('-----------')\n",
    "print(np.mean(scores_r2))"
   ]
  },
  {
   "cell_type": "markdown",
   "id": "3ee33fa3",
   "metadata": {},
   "source": [
    "All relevant algorithm have a R2-Score from 0.623 to 0.787. The best of them is the Gradient Boosting. "
   ]
  }
 ],
 "metadata": {
  "kernelspec": {
   "display_name": "Python 3 (ipykernel)",
   "language": "python",
   "name": "python3"
  },
  "language_info": {
   "codemirror_mode": {
    "name": "ipython",
    "version": 3
   },
   "file_extension": ".py",
   "mimetype": "text/x-python",
   "name": "python",
   "nbconvert_exporter": "python",
   "pygments_lexer": "ipython3",
   "version": "3.10.9"
  }
 },
 "nbformat": 4,
 "nbformat_minor": 5
}
